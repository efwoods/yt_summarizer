{
 "cells": [
  {
   "cell_type": "code",
   "execution_count": null,
   "id": "e209fa6d",
   "metadata": {},
   "outputs": [
    {
     "ename": "",
     "evalue": "",
     "output_type": "error",
     "traceback": [
      "\u001b[1;31mRunning cells with 'yt_summarizer (Python 3.11.11)' requires the ipykernel package.\n",
      "\u001b[1;31m<a href='command:jupyter.createPythonEnvAndSelectController'>Create a Python Environment</a> with the required packages.\n",
      "\u001b[1;31mOr install 'ipykernel' using the command: 'conda install -n yt_summarizer ipykernel --update-deps --force-reinstall'"
     ]
    }
   ],
   "source": [
    "import argparse\n",
    "import re\n",
    "from tqdm import tqdm\n",
    "from youtube_transcript_api import YouTubeTranscriptApi\n",
    "from youtube_transcript_api.formatters import TextFormatter\n"
   ]
  }
 ],
 "metadata": {
  "kernelspec": {
   "display_name": "yt_summarizer",
   "language": "python",
   "name": "python3"
  },
  "language_info": {
   "name": "python",
   "version": "3.11.11"
  }
 },
 "nbformat": 4,
 "nbformat_minor": 5
}
